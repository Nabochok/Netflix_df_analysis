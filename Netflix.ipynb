{
 "cells": [
  {
   "attachments": {},
   "cell_type": "markdown",
   "metadata": {},
   "source": [
    "Netflix\n"
   ]
  },
  {
   "attachments": {},
   "cell_type": "markdown",
   "metadata": {},
   "source": [
    "Import"
   ]
  },
  {
   "cell_type": "code",
   "execution_count": 1,
   "metadata": {},
   "outputs": [],
   "source": [
    "import pandas as pd\n",
    "import numpy as np\n",
    "import seaborn as sns\n",
    "import matplotlib.pyplot as plt\n",
    "import plotly.express as px"
   ]
  },
  {
   "attachments": {},
   "cell_type": "markdown",
   "metadata": {},
   "source": [
    "Settings"
   ]
  },
  {
   "cell_type": "code",
   "execution_count": 2,
   "metadata": {},
   "outputs": [],
   "source": [
    "pd.set_option('display.max_columns', None)"
   ]
  },
  {
   "attachments": {},
   "cell_type": "markdown",
   "metadata": {},
   "source": [
    "Reading csv"
   ]
  },
  {
   "cell_type": "code",
   "execution_count": 3,
   "metadata": {},
   "outputs": [],
   "source": [
    "df = pd.read_csv('netflix-rotten-tomatoes-metacritic-imdb.csv')"
   ]
  },
  {
   "cell_type": "code",
   "execution_count": 23,
   "metadata": {},
   "outputs": [
    {
     "data": {
      "text/html": [
       "<div>\n",
       "<style scoped>\n",
       "    .dataframe tbody tr th:only-of-type {\n",
       "        vertical-align: middle;\n",
       "    }\n",
       "\n",
       "    .dataframe tbody tr th {\n",
       "        vertical-align: top;\n",
       "    }\n",
       "\n",
       "    .dataframe thead th {\n",
       "        text-align: right;\n",
       "    }\n",
       "</style>\n",
       "<table border=\"1\" class=\"dataframe\">\n",
       "  <thead>\n",
       "    <tr style=\"text-align: right;\">\n",
       "      <th></th>\n",
       "      <th>title</th>\n",
       "      <th>genre</th>\n",
       "      <th>tags</th>\n",
       "      <th>languages</th>\n",
       "      <th>series_or_movie</th>\n",
       "      <th>hidden_gem_score</th>\n",
       "      <th>country_availability</th>\n",
       "      <th>runtime</th>\n",
       "      <th>director</th>\n",
       "      <th>writer</th>\n",
       "      <th>actors</th>\n",
       "      <th>view_rating</th>\n",
       "      <th>imdb_score</th>\n",
       "      <th>rotten_tomatoes_score</th>\n",
       "      <th>metacritic_score</th>\n",
       "      <th>awards_received</th>\n",
       "      <th>awards_nominated_for</th>\n",
       "      <th>boxoffice</th>\n",
       "      <th>release_date</th>\n",
       "      <th>netflix_release_date</th>\n",
       "      <th>production_house</th>\n",
       "      <th>netflix_link</th>\n",
       "      <th>imdb_link</th>\n",
       "      <th>summary</th>\n",
       "      <th>imdb_votes</th>\n",
       "      <th>image</th>\n",
       "      <th>poster</th>\n",
       "      <th>tmdb_trailer</th>\n",
       "      <th>trailer_site</th>\n",
       "    </tr>\n",
       "  </thead>\n",
       "  <tbody>\n",
       "    <tr>\n",
       "      <th>0</th>\n",
       "      <td>Lets Fight Ghost</td>\n",
       "      <td>Crime, Drama, Fantasy, Horror, Romance</td>\n",
       "      <td>Comedy Programmes,Romantic TV Comedies,Horror ...</td>\n",
       "      <td>Swedish, Spanish</td>\n",
       "      <td>Series</td>\n",
       "      <td>4.3</td>\n",
       "      <td>Thailand</td>\n",
       "      <td>&lt; 30 minutes</td>\n",
       "      <td>Tomas Alfredson</td>\n",
       "      <td>John Ajvide Lindqvist</td>\n",
       "      <td>Kåre Hedebrant, Per Ragnar, Lina Leandersson, ...</td>\n",
       "      <td>R</td>\n",
       "      <td>7.9</td>\n",
       "      <td>98.0</td>\n",
       "      <td>82.0</td>\n",
       "      <td>74.0</td>\n",
       "      <td>57.0</td>\n",
       "      <td>$2,122,065</td>\n",
       "      <td>2008-12-12</td>\n",
       "      <td>2021-03-04</td>\n",
       "      <td>Canal+, Sandrew Metronome</td>\n",
       "      <td>https://www.netflix.com/watch/81415947</td>\n",
       "      <td>https://www.imdb.com/title/tt1139797</td>\n",
       "      <td>A med student with a supernatural gift tries t...</td>\n",
       "      <td>205926.0</td>\n",
       "      <td>https://occ-0-4708-64.1.nflxso.net/dnm/api/v6/...</td>\n",
       "      <td>https://m.media-amazon.com/images/M/MV5BOWM4NT...</td>\n",
       "      <td>NaN</td>\n",
       "      <td>NaN</td>\n",
       "    </tr>\n",
       "    <tr>\n",
       "      <th>1</th>\n",
       "      <td>HOW TO BUILD A GIRL</td>\n",
       "      <td>Comedy</td>\n",
       "      <td>Dramas,Comedies,Films Based on Books,British</td>\n",
       "      <td>English</td>\n",
       "      <td>Movie</td>\n",
       "      <td>7.0</td>\n",
       "      <td>Canada</td>\n",
       "      <td>1-2 hour</td>\n",
       "      <td>Coky Giedroyc</td>\n",
       "      <td>Caitlin Moran</td>\n",
       "      <td>Paddy Considine, Cleo, Beanie Feldstein, Dónal...</td>\n",
       "      <td>R</td>\n",
       "      <td>5.8</td>\n",
       "      <td>79.0</td>\n",
       "      <td>69.0</td>\n",
       "      <td>1.0</td>\n",
       "      <td>NaN</td>\n",
       "      <td>$70,632</td>\n",
       "      <td>2020-05-08</td>\n",
       "      <td>2021-03-04</td>\n",
       "      <td>Film 4, Monumental Pictures, Lionsgate</td>\n",
       "      <td>https://www.netflix.com/watch/81041267</td>\n",
       "      <td>https://www.imdb.com/title/tt4193072</td>\n",
       "      <td>When nerdy Johanna moves to London, things get...</td>\n",
       "      <td>2838.0</td>\n",
       "      <td>https://occ-0-1081-999.1.nflxso.net/dnm/api/v6...</td>\n",
       "      <td>https://m.media-amazon.com/images/M/MV5BZGUyN2...</td>\n",
       "      <td>https://www.youtube.com/watch?v=eIbcxPy4okQ</td>\n",
       "      <td>YouTube</td>\n",
       "    </tr>\n",
       "    <tr>\n",
       "      <th>2</th>\n",
       "      <td>Centigrade</td>\n",
       "      <td>Drama, Thriller</td>\n",
       "      <td>Thrillers</td>\n",
       "      <td>English</td>\n",
       "      <td>Movie</td>\n",
       "      <td>6.4</td>\n",
       "      <td>Canada</td>\n",
       "      <td>1-2 hour</td>\n",
       "      <td>Brendan Walsh</td>\n",
       "      <td>Brendan Walsh, Daley Nixon</td>\n",
       "      <td>Genesis Rodriguez, Vincent Piazza</td>\n",
       "      <td>Unrated</td>\n",
       "      <td>4.3</td>\n",
       "      <td>NaN</td>\n",
       "      <td>46.0</td>\n",
       "      <td>NaN</td>\n",
       "      <td>NaN</td>\n",
       "      <td>$16,263</td>\n",
       "      <td>2020-08-28</td>\n",
       "      <td>2021-03-04</td>\n",
       "      <td>NaN</td>\n",
       "      <td>https://www.netflix.com/watch/81305978</td>\n",
       "      <td>https://www.imdb.com/title/tt8945942</td>\n",
       "      <td>Trapped in a frozen car during a blizzard, a p...</td>\n",
       "      <td>1720.0</td>\n",
       "      <td>https://occ-0-1081-999.1.nflxso.net/dnm/api/v6...</td>\n",
       "      <td>https://m.media-amazon.com/images/M/MV5BODM2MD...</td>\n",
       "      <td>https://www.youtube.com/watch?v=0RvV7TNUlkQ</td>\n",
       "      <td>YouTube</td>\n",
       "    </tr>\n",
       "    <tr>\n",
       "      <th>3</th>\n",
       "      <td>ANNE+</td>\n",
       "      <td>Drama</td>\n",
       "      <td>TV Dramas,Romantic TV Dramas,Dutch TV Shows</td>\n",
       "      <td>Turkish</td>\n",
       "      <td>Series</td>\n",
       "      <td>7.7</td>\n",
       "      <td>Belgium,Netherlands</td>\n",
       "      <td>&lt; 30 minutes</td>\n",
       "      <td>NaN</td>\n",
       "      <td>NaN</td>\n",
       "      <td>Vahide Perçin, Gonca Vuslateri, Cansu Dere, Be...</td>\n",
       "      <td>NaN</td>\n",
       "      <td>6.5</td>\n",
       "      <td>NaN</td>\n",
       "      <td>NaN</td>\n",
       "      <td>1.0</td>\n",
       "      <td>NaN</td>\n",
       "      <td>NaN</td>\n",
       "      <td>2016-10-01</td>\n",
       "      <td>2021-03-04</td>\n",
       "      <td>NaN</td>\n",
       "      <td>https://www.netflix.com/watch/81336456</td>\n",
       "      <td>https://www.imdb.com/title/tt6132758</td>\n",
       "      <td>Upon moving into a new place, a 20-something r...</td>\n",
       "      <td>1147.0</td>\n",
       "      <td>https://occ-0-1489-1490.1.nflxso.net/dnm/api/v...</td>\n",
       "      <td>https://m.media-amazon.com/images/M/MV5BNWRkMz...</td>\n",
       "      <td>NaN</td>\n",
       "      <td>NaN</td>\n",
       "    </tr>\n",
       "    <tr>\n",
       "      <th>4</th>\n",
       "      <td>Moxie</td>\n",
       "      <td>Animation, Short, Drama</td>\n",
       "      <td>Social Issue Dramas,Teen Movies,Dramas,Comedie...</td>\n",
       "      <td>English</td>\n",
       "      <td>Movie</td>\n",
       "      <td>8.1</td>\n",
       "      <td>Lithuania,Poland,France,Iceland,Italy,Spain,Gr...</td>\n",
       "      <td>1-2 hour</td>\n",
       "      <td>Stephen Irwin</td>\n",
       "      <td>NaN</td>\n",
       "      <td>Ragga Gudrun</td>\n",
       "      <td>NaN</td>\n",
       "      <td>6.3</td>\n",
       "      <td>NaN</td>\n",
       "      <td>NaN</td>\n",
       "      <td>NaN</td>\n",
       "      <td>4.0</td>\n",
       "      <td>NaN</td>\n",
       "      <td>2011-09-22</td>\n",
       "      <td>2021-03-04</td>\n",
       "      <td>NaN</td>\n",
       "      <td>https://www.netflix.com/watch/81078393</td>\n",
       "      <td>https://www.imdb.com/title/tt2023611</td>\n",
       "      <td>Inspired by her moms rebellious past and a con...</td>\n",
       "      <td>63.0</td>\n",
       "      <td>https://occ-0-4039-1500.1.nflxso.net/dnm/api/v...</td>\n",
       "      <td>https://m.media-amazon.com/images/M/MV5BODYyNW...</td>\n",
       "      <td>NaN</td>\n",
       "      <td>NaN</td>\n",
       "    </tr>\n",
       "  </tbody>\n",
       "</table>\n",
       "</div>"
      ],
      "text/plain": [
       "                 title                                   genre  \\\n",
       "0     Lets Fight Ghost  Crime, Drama, Fantasy, Horror, Romance   \n",
       "1  HOW TO BUILD A GIRL                                  Comedy   \n",
       "2           Centigrade                         Drama, Thriller   \n",
       "3                ANNE+                                   Drama   \n",
       "4                Moxie                 Animation, Short, Drama   \n",
       "\n",
       "                                                tags         languages  \\\n",
       "0  Comedy Programmes,Romantic TV Comedies,Horror ...  Swedish, Spanish   \n",
       "1       Dramas,Comedies,Films Based on Books,British           English   \n",
       "2                                          Thrillers           English   \n",
       "3        TV Dramas,Romantic TV Dramas,Dutch TV Shows           Turkish   \n",
       "4  Social Issue Dramas,Teen Movies,Dramas,Comedie...           English   \n",
       "\n",
       "  series_or_movie  hidden_gem_score  \\\n",
       "0          Series               4.3   \n",
       "1           Movie               7.0   \n",
       "2           Movie               6.4   \n",
       "3          Series               7.7   \n",
       "4           Movie               8.1   \n",
       "\n",
       "                                country_availability       runtime  \\\n",
       "0                                           Thailand  < 30 minutes   \n",
       "1                                             Canada      1-2 hour   \n",
       "2                                             Canada      1-2 hour   \n",
       "3                                Belgium,Netherlands  < 30 minutes   \n",
       "4  Lithuania,Poland,France,Iceland,Italy,Spain,Gr...      1-2 hour   \n",
       "\n",
       "          director                      writer  \\\n",
       "0  Tomas Alfredson       John Ajvide Lindqvist   \n",
       "1    Coky Giedroyc               Caitlin Moran   \n",
       "2    Brendan Walsh  Brendan Walsh, Daley Nixon   \n",
       "3              NaN                         NaN   \n",
       "4    Stephen Irwin                         NaN   \n",
       "\n",
       "                                              actors view_rating  imdb_score  \\\n",
       "0  Kåre Hedebrant, Per Ragnar, Lina Leandersson, ...           R         7.9   \n",
       "1  Paddy Considine, Cleo, Beanie Feldstein, Dónal...           R         5.8   \n",
       "2                  Genesis Rodriguez, Vincent Piazza     Unrated         4.3   \n",
       "3  Vahide Perçin, Gonca Vuslateri, Cansu Dere, Be...         NaN         6.5   \n",
       "4                                       Ragga Gudrun         NaN         6.3   \n",
       "\n",
       "   rotten_tomatoes_score  metacritic_score  awards_received  \\\n",
       "0                   98.0              82.0             74.0   \n",
       "1                   79.0              69.0              1.0   \n",
       "2                    NaN              46.0              NaN   \n",
       "3                    NaN               NaN              1.0   \n",
       "4                    NaN               NaN              NaN   \n",
       "\n",
       "   awards_nominated_for   boxoffice release_date netflix_release_date  \\\n",
       "0                  57.0  $2,122,065   2008-12-12           2021-03-04   \n",
       "1                   NaN     $70,632   2020-05-08           2021-03-04   \n",
       "2                   NaN     $16,263   2020-08-28           2021-03-04   \n",
       "3                   NaN         NaN   2016-10-01           2021-03-04   \n",
       "4                   4.0         NaN   2011-09-22           2021-03-04   \n",
       "\n",
       "                         production_house  \\\n",
       "0               Canal+, Sandrew Metronome   \n",
       "1  Film 4, Monumental Pictures, Lionsgate   \n",
       "2                                     NaN   \n",
       "3                                     NaN   \n",
       "4                                     NaN   \n",
       "\n",
       "                             netflix_link  \\\n",
       "0  https://www.netflix.com/watch/81415947   \n",
       "1  https://www.netflix.com/watch/81041267   \n",
       "2  https://www.netflix.com/watch/81305978   \n",
       "3  https://www.netflix.com/watch/81336456   \n",
       "4  https://www.netflix.com/watch/81078393   \n",
       "\n",
       "                              imdb_link  \\\n",
       "0  https://www.imdb.com/title/tt1139797   \n",
       "1  https://www.imdb.com/title/tt4193072   \n",
       "2  https://www.imdb.com/title/tt8945942   \n",
       "3  https://www.imdb.com/title/tt6132758   \n",
       "4  https://www.imdb.com/title/tt2023611   \n",
       "\n",
       "                                             summary  imdb_votes  \\\n",
       "0  A med student with a supernatural gift tries t...    205926.0   \n",
       "1  When nerdy Johanna moves to London, things get...      2838.0   \n",
       "2  Trapped in a frozen car during a blizzard, a p...      1720.0   \n",
       "3  Upon moving into a new place, a 20-something r...      1147.0   \n",
       "4  Inspired by her moms rebellious past and a con...        63.0   \n",
       "\n",
       "                                               image  \\\n",
       "0  https://occ-0-4708-64.1.nflxso.net/dnm/api/v6/...   \n",
       "1  https://occ-0-1081-999.1.nflxso.net/dnm/api/v6...   \n",
       "2  https://occ-0-1081-999.1.nflxso.net/dnm/api/v6...   \n",
       "3  https://occ-0-1489-1490.1.nflxso.net/dnm/api/v...   \n",
       "4  https://occ-0-4039-1500.1.nflxso.net/dnm/api/v...   \n",
       "\n",
       "                                              poster  \\\n",
       "0  https://m.media-amazon.com/images/M/MV5BOWM4NT...   \n",
       "1  https://m.media-amazon.com/images/M/MV5BZGUyN2...   \n",
       "2  https://m.media-amazon.com/images/M/MV5BODM2MD...   \n",
       "3  https://m.media-amazon.com/images/M/MV5BNWRkMz...   \n",
       "4  https://m.media-amazon.com/images/M/MV5BODYyNW...   \n",
       "\n",
       "                                  tmdb_trailer trailer_site  \n",
       "0                                          NaN          NaN  \n",
       "1  https://www.youtube.com/watch?v=eIbcxPy4okQ      YouTube  \n",
       "2  https://www.youtube.com/watch?v=0RvV7TNUlkQ      YouTube  \n",
       "3                                          NaN          NaN  \n",
       "4                                          NaN          NaN  "
      ]
     },
     "execution_count": 23,
     "metadata": {},
     "output_type": "execute_result"
    }
   ],
   "source": [
    "df.head()"
   ]
  },
  {
   "attachments": {},
   "cell_type": "markdown",
   "metadata": {},
   "source": [
    "Discovering"
   ]
  },
  {
   "cell_type": "code",
   "execution_count": 5,
   "metadata": {},
   "outputs": [
    {
     "name": "stdout",
     "output_type": "stream",
     "text": [
      "<class 'pandas.core.frame.DataFrame'>\n",
      "RangeIndex: 15480 entries, 0 to 15479\n",
      "Data columns (total 29 columns):\n",
      " #   Column                 Non-Null Count  Dtype  \n",
      "---  ------                 --------------  -----  \n",
      " 0   Title                  15480 non-null  object \n",
      " 1   Genre                  13770 non-null  object \n",
      " 2   Tags                   15413 non-null  object \n",
      " 3   Languages              13545 non-null  object \n",
      " 4   Series or Movie        15480 non-null  object \n",
      " 5   Hidden Gem Score       13379 non-null  float64\n",
      " 6   Country Availability   15461 non-null  object \n",
      " 7   Runtime                15479 non-null  object \n",
      " 8   Director               10772 non-null  object \n",
      " 9   Writer                 11150 non-null  object \n",
      " 10  Actors                 13555 non-null  object \n",
      " 11  View Rating            8456 non-null   object \n",
      " 12  IMDb Score             13381 non-null  float64\n",
      " 13  Rotten Tomatoes Score  6382 non-null   float64\n",
      " 14  Metacritic Score       4336 non-null   float64\n",
      " 15  Awards Received        6075 non-null   float64\n",
      " 16  Awards Nominated For   7661 non-null   float64\n",
      " 17  Boxoffice              4007 non-null   object \n",
      " 18  Release Date           13373 non-null  object \n",
      " 19  Netflix Release Date   15480 non-null  object \n",
      " 20  Production House       5149 non-null   object \n",
      " 21  Netflix Link           15480 non-null  object \n",
      " 22  IMDb Link              13177 non-null  object \n",
      " 23  Summary                15471 non-null  object \n",
      " 24  IMDb Votes             13379 non-null  float64\n",
      " 25  Image                  15480 non-null  object \n",
      " 26  Poster                 11842 non-null  object \n",
      " 27  TMDb Trailer           7194 non-null   object \n",
      " 28  Trailer Site           7194 non-null   object \n",
      "dtypes: float64(7), object(22)\n",
      "memory usage: 3.4+ MB\n"
     ]
    }
   ],
   "source": [
    "df.info()"
   ]
  },
  {
   "cell_type": "code",
   "execution_count": 6,
   "metadata": {},
   "outputs": [
    {
     "data": {
      "text/plain": [
       "Title                        0\n",
       "Genre                     1710\n",
       "Tags                        67\n",
       "Languages                 1935\n",
       "Series or Movie              0\n",
       "Hidden Gem Score          2101\n",
       "Country Availability        19\n",
       "Runtime                      1\n",
       "Director                  4708\n",
       "Writer                    4330\n",
       "Actors                    1925\n",
       "View Rating               7024\n",
       "IMDb Score                2099\n",
       "Rotten Tomatoes Score     9098\n",
       "Metacritic Score         11144\n",
       "Awards Received           9405\n",
       "Awards Nominated For      7819\n",
       "Boxoffice                11473\n",
       "Release Date              2107\n",
       "Netflix Release Date         0\n",
       "Production House         10331\n",
       "Netflix Link                 0\n",
       "IMDb Link                 2303\n",
       "Summary                      9\n",
       "IMDb Votes                2101\n",
       "Image                        0\n",
       "Poster                    3638\n",
       "TMDb Trailer              8286\n",
       "Trailer Site              8286\n",
       "dtype: int64"
      ]
     },
     "execution_count": 6,
     "metadata": {},
     "output_type": "execute_result"
    }
   ],
   "source": [
    "df.isnull().sum()"
   ]
  },
  {
   "cell_type": "code",
   "execution_count": 25,
   "metadata": {},
   "outputs": [
    {
     "data": {
      "image/png": "[encoded data removed]",
      "text/plain": [
       "<Figure size 900x600 with 2 Axes>"
      ]
     },
     "metadata": {},
     "output_type": "display_data"
    }
   ],
   "source": [
    "#correlation heatmap\n",
    "corr = df.corr()\n",
    "f,ax = plt.subplots(figsize=(9,6))\n",
    "sns.heatmap(corr, annot = True, linewidths=1.5 , fmt = '.2f',ax=ax)\n",
    "plt.show()\n"
   ]
  },
  {
   "cell_type": "code",
   "execution_count": 7,
   "metadata": {},
   "outputs": [],
   "source": [
    "#drop duplicates\n",
    "df = df.drop_duplicates(subset='Title')"
   ]
  },
  {
   "cell_type": "code",
   "execution_count": 8,
   "metadata": {},
   "outputs": [],
   "source": [
    "#change date of release format\n",
    "df['Release Date']= pd.to_datetime(df['Release Date'])\n",
    "df['Netflix Release Date']= pd.to_datetime(df['Netflix Release Date'])"
   ]
  },
  {
   "cell_type": "code",
   "execution_count": 9,
   "metadata": {},
   "outputs": [],
   "source": [
    "#renaming columns\n",
    "df.columns = df.columns.str.replace(' ','_')\n",
    "df.columns = df.columns.str.lower()"
   ]
  },
  {
   "attachments": {},
   "cell_type": "markdown",
   "metadata": {},
   "source": [
    "1.Series vs Films"
   ]
  },
  {
   "cell_type": "code",
   "execution_count": 10,
   "metadata": {},
   "outputs": [
    {
     "data": {
      "text/html": [
       "<div>\n",
       "<style scoped>\n",
       "    .dataframe tbody tr th:only-of-type {\n",
       "        vertical-align: middle;\n",
       "    }\n",
       "\n",
       "    .dataframe tbody tr th {\n",
       "        vertical-align: top;\n",
       "    }\n",
       "\n",
       "    .dataframe thead th {\n",
       "        text-align: right;\n",
       "    }\n",
       "</style>\n",
       "<table border=\"1\" class=\"dataframe\">\n",
       "  <thead>\n",
       "    <tr style=\"text-align: right;\">\n",
       "      <th></th>\n",
       "      <th>index</th>\n",
       "      <th>series_or_movie</th>\n",
       "    </tr>\n",
       "  </thead>\n",
       "  <tbody>\n",
       "    <tr>\n",
       "      <th>0</th>\n",
       "      <td>Movie</td>\n",
       "      <td>11406</td>\n",
       "    </tr>\n",
       "    <tr>\n",
       "      <th>1</th>\n",
       "      <td>Series</td>\n",
       "      <td>3665</td>\n",
       "    </tr>\n",
       "  </tbody>\n",
       "</table>\n",
       "</div>"
      ],
      "text/plain": [
       "    index  series_or_movie\n",
       "0   Movie            11406\n",
       "1  Series             3665"
      ]
     },
     "execution_count": 10,
     "metadata": {},
     "output_type": "execute_result"
    }
   ],
   "source": [
    "svf = df.series_or_movie.value_counts().reset_index()\n",
    "svf"
   ]
  },
  {
   "cell_type": "code",
   "execution_count": 11,
   "metadata": {},
   "outputs": [
    {
     "data": {
      "text/plain": [
       "<AxesSubplot:xlabel='index', ylabel='series_or_movie'>"
      ]
     },
     "execution_count": 11,
     "metadata": {},
     "output_type": "execute_result"
    },
    {
     "data": {
      "image/png": "[encoded data removed]",
      "text/plain": [
       "<Figure size 640x480 with 1 Axes>"
      ]
     },
     "metadata": {},
     "output_type": "display_data"
    }
   ],
   "source": [
    "sns.set_theme(style=\"whitegrid\")\n",
    "sns.barplot(data = svf, x='index', y='series_or_movie',)\n"
   ]
  },
  {
   "attachments": {},
   "cell_type": "markdown",
   "metadata": {},
   "source": [
    "2.Ganres"
   ]
  },
  {
   "cell_type": "code",
   "execution_count": 12,
   "metadata": {},
   "outputs": [],
   "source": [
    "df_series_gen = df.dropna(subset=['genre'])\n"
   ]
  },
  {
   "cell_type": "code",
   "execution_count": 13,
   "metadata": {},
   "outputs": [
    {
     "data": {
      "text/plain": [
       "0        [Crime,  Drama,  Fantasy,  Horror,  Romance]\n",
       "1                                            [Comedy]\n",
       "2                                  [Drama,  Thriller]\n",
       "3                                             [Drama]\n",
       "4                         [Animation,  Short,  Drama]\n",
       "                             ...                     \n",
       "15467                           [Documentary,  Music]\n",
       "15473                                        [Comedy]\n",
       "15477                   [Animation,  Comedy,  Family]\n",
       "15478                   [Animation,  Comedy,  Family]\n",
       "15479          [Animation,  Action,  Comedy,  Family]\n",
       "Name: genre, Length: 13365, dtype: object"
      ]
     },
     "execution_count": 13,
     "metadata": {},
     "output_type": "execute_result"
    }
   ],
   "source": [
    "genreslist = df_series_gen.genre.str.split(',')\n",
    "genreslist"
   ]
  },
  {
   "cell_type": "code",
   "execution_count": 14,
   "metadata": {},
   "outputs": [],
   "source": [
    "#Creating list that counting genres\n",
    "gen_list={}\n",
    "for genres in genreslist:\n",
    "    for genre in genres:\n",
    "        if genre in gen_list:\n",
    "            gen_list[genre]+=1\n",
    "        else:\n",
    "            gen_list[genre]=1\n",
    "genres_count=pd.DataFrame.from_dict(gen_list, orient='index')\n",
    "genres_count = genres_count.reset_index().rename(columns={'index':'genre',0:'colvo'})\n",
    "genres_count = genres_count.sort_values(by='colvo', ascending=False)\n",
    "genres_count = genres_count[genres_count.colvo > 10]"
   ]
  },
  {
   "cell_type": "code",
   "execution_count": 15,
   "metadata": {},
   "outputs": [
    {
     "data": {
      "text/plain": [
       "<AxesSubplot:xlabel='colvo', ylabel='genre'>"
      ]
     },
     "execution_count": 15,
     "metadata": {},
     "output_type": "execute_result"
    },
    {
     "data": {
      "image/png": "[encoded data removed]",
      "text/plain": [
       "<Figure size 900x1300 with 1 Axes>"
      ]
     },
     "metadata": {},
     "output_type": "display_data"
    }
   ],
   "source": [
    "fig = plt.gcf()\n",
    "fig.set_size_inches(9, 13)\n",
    "sns.barplot(data = genres_count, y='genre', x='colvo', orient='h')\n"
   ]
  },
  {
   "attachments": {},
   "cell_type": "markdown",
   "metadata": {},
   "source": [
    "3.Most popolar languages"
   ]
  },
  {
   "cell_type": "code",
   "execution_count": 16,
   "metadata": {},
   "outputs": [
    {
     "data": {
      "text/plain": [
       "{'Swedish': 171,\n",
       " 'Spanish': 1113,\n",
       " 'English': 7774,\n",
       " 'Turkish': 172,\n",
       " 'Thai': 196,\n",
       " 'Polish': 184,\n",
       " 'German': 665,\n",
       " 'Norwegian': 83,\n",
       " 'Scanian': 1,\n",
       " 'Sanskrit': 18,\n",
       " 'Japanese': 1604,\n",
       " 'Hindi': 526,\n",
       " 'Cantonese': 291,\n",
       " 'Mandarin': 471,\n",
       " 'French': 1013,\n",
       " 'Italian': 473,\n",
       " 'Breton': 1,\n",
       " 'Korean': 708,\n",
       " 'Tibetan': 6,\n",
       " 'Russian': 321,\n",
       " 'Chinese': 132,\n",
       " 'Aboriginal': 10,\n",
       " 'Danish': 121,\n",
       " 'Czech': 148,\n",
       " 'Ukrainian': 47,\n",
       " 'Romanian': 108,\n",
       " 'None': 40,\n",
       " 'Hungarian': 64,\n",
       " 'SwissGerman': 9,\n",
       " 'Latin': 93,\n",
       " 'Greek': 42,\n",
       " 'Vietnamese': 33,\n",
       " 'Kannada': 9,\n",
       " 'Luxembourgish': 3,\n",
       " 'Indonesian': 97,\n",
       " 'Portuguese': 253,\n",
       " 'MinNan': 28,\n",
       " 'Bengali': 29,\n",
       " 'Arabic': 294,\n",
       " 'Yiddish': 25,\n",
       " 'Filipino': 91,\n",
       " 'Malayalam': 47,\n",
       " 'Romany': 8,\n",
       " 'AmericanSignLanguage': 26,\n",
       " 'Quechua': 6,\n",
       " 'Dutch': 180,\n",
       " 'Khmer': 9,\n",
       " 'Hokkien': 27,\n",
       " 'Tagalog': 85,\n",
       " 'Persian': 27,\n",
       " 'Uzbek': 2,\n",
       " 'Basque': 13,\n",
       " 'Hebrew': 86,\n",
       " 'Urdu': 47,\n",
       " 'Gallegan': 2,\n",
       " 'Finnish': 24,\n",
       " 'Malay': 59,\n",
       " 'SignLanguages': 7,\n",
       " 'Georgian': 10,\n",
       " 'Tamil': 83,\n",
       " 'Zulu': 15,\n",
       " 'SouthernSotho': 7,\n",
       " 'Tswana': 2,\n",
       " 'Inuktitut': 4,\n",
       " 'Hakka': 2,\n",
       " 'Mongolian': 8,\n",
       " 'Serbian': 21,\n",
       " 'Amharic': 2,\n",
       " 'Assamese': 5,\n",
       " 'Berberlanguages': 1,\n",
       " 'JapaneseSignLanguage': 3,\n",
       " 'Swahili': 17,\n",
       " 'Sicilian': 2,\n",
       " 'Neapolitan': 4,\n",
       " 'Bosnian': 5,\n",
       " 'Latvian': 4,\n",
       " 'Pushto': 8,\n",
       " 'Wolof': 6,\n",
       " 'Yoruba': 11,\n",
       " 'Telugu': 38,\n",
       " 'Dinka': 1,\n",
       " 'Nama': 1,\n",
       " 'Kurdish': 3,\n",
       " 'Afrikaans': 28,\n",
       " 'Serbo-Croatian': 9,\n",
       " 'Slovak': 21,\n",
       " 'Marathi': 30,\n",
       " 'Gujarati': 10,\n",
       " 'Catalan': 23,\n",
       " 'Chaozhou': 1,\n",
       " 'Algonquin': 1,\n",
       " 'Ibo': 7,\n",
       " 'Irish': 16,\n",
       " 'Kazakh': 1,\n",
       " 'Icelandic': 11,\n",
       " 'Sranan': 2,\n",
       " 'Croatian': 6,\n",
       " 'Kinyarwanda': 3,\n",
       " 'Haitian': 1,\n",
       " 'Hawaiian': 7,\n",
       " 'Fulah': 1,\n",
       " 'BrazilianSignLanguage': 2,\n",
       " 'NorthAmericanIndian': 4,\n",
       " 'Flemish': 14,\n",
       " 'Bulgarian': 10,\n",
       " 'Albanian': 7,\n",
       " 'Acholi': 2,\n",
       " 'Maya': 1,\n",
       " 'Parsee': 1,\n",
       " 'Armenian': 6,\n",
       " 'Saami': 4,\n",
       " 'Xhosa': 10,\n",
       " 'Divehi': 1,\n",
       " 'Mixtec': 2,\n",
       " 'Akan': 3,\n",
       " 'Hausa': 5,\n",
       " 'Bhojpuri': 3,\n",
       " 'Turkmen': 1,\n",
       " 'ScottishGaelic': 9,\n",
       " 'Aromanian': 1,\n",
       " 'Dari': 5,\n",
       " 'Punjabi': 48,\n",
       " 'Tarahumara': 1,\n",
       " 'Tatar': 1,\n",
       " 'Wayuu': 1,\n",
       " 'Bable': 1,\n",
       " 'Maori': 4,\n",
       " 'Sinhalese': 3,\n",
       " 'Lao': 2,\n",
       " 'Sioux': 2,\n",
       " 'Shanghainese': 4,\n",
       " 'Papiamento': 2,\n",
       " 'Lithuanian': 3,\n",
       " 'Manipuri': 2,\n",
       " 'Occitan': 1,\n",
       " 'Somali': 5,\n",
       " 'Nyanja': 2,\n",
       " 'Pawnee': 2,\n",
       " 'Nahuatl': 1,\n",
       " 'Tajik': 2,\n",
       " 'Egyptian(Ancient)': 3,\n",
       " 'Teochew': 1,\n",
       " 'Scots': 2,\n",
       " 'Polynesian': 1,\n",
       " 'Cheyenne': 1,\n",
       " 'Shoshoni': 1,\n",
       " 'Awadhi': 1,\n",
       " 'Esperanto': 6,\n",
       " 'Azerbaijani': 1,\n",
       " 'Apachelanguages': 2,\n",
       " 'Kikuyu': 1,\n",
       " 'BritishSignLanguage': 1,\n",
       " 'Welsh': 8,\n",
       " 'Ancient(to1453)': 5,\n",
       " 'Tupi': 1,\n",
       " 'East-Greenlandic': 2,\n",
       " 'Klingon': 10,\n",
       " 'Chechen': 2,\n",
       " 'Burmese': 2,\n",
       " 'SpanishSignLanguage': 1,\n",
       " 'Lingala': 4,\n",
       " 'CentralAmericanIndianlanguages': 1,\n",
       " 'Greenlandic': 2,\n",
       " 'Cree': 1,\n",
       " 'Maltese': 1,\n",
       " 'Slovenian': 1,\n",
       " 'Estonian': 4,\n",
       " 'KoreanSignLanguage': 2,\n",
       " 'Cornish': 2,\n",
       " 'Kriolu': 1,\n",
       " 'Aragonese': 1,\n",
       " 'Navajo': 1,\n",
       " 'Tlingit': 1,\n",
       " 'Aramaic': 2,\n",
       " 'Nepali': 2,\n",
       " 'Syriac': 1,\n",
       " 'Faroese': 1,\n",
       " 'Tulu': 1,\n",
       " 'Malinka': 1,\n",
       " 'FrenchSignLanguage': 2,\n",
       " 'Mohawk': 1,\n",
       " 'Belarusian': 1,\n",
       " 'OldEnglish': 4,\n",
       " 'Mapudungun': 1,\n",
       " 'Hmong': 1,\n",
       " 'Sindarin': 3,\n",
       " 'Mende': 1,\n",
       " 'TokPisin': 1,\n",
       " 'Norse': 1,\n",
       " 'Old': 1,\n",
       " 'Quenya': 1,\n",
       " 'Uighur': 1}"
      ]
     },
     "execution_count": 16,
     "metadata": {},
     "output_type": "execute_result"
    }
   ],
   "source": [
    "languages = df.languages.dropna().str.replace(' ','')\n",
    "languages = languages.str.split(',')\n",
    "lang_list={}\n",
    "for langes in languages:\n",
    "    for lange in langes:\n",
    "        if lange in lang_list:\n",
    "            lang_list[lange]+=1\n",
    "        else:\n",
    "            lang_list[lange]=1\n",
    "lang_list"
   ]
  },
  {
   "cell_type": "code",
   "execution_count": 17,
   "metadata": {},
   "outputs": [],
   "source": [
    "lang_df = pd.DataFrame.from_dict(lang_list, orient='index')\n",
    "lang_df = lang_df.reset_index().rename(columns={'index':'language',0:'col'})\n",
    "lang_df = lang_df[lang_df.col>20]\n",
    "lang_df = lang_df.drop_duplicates().sort_values(by='col', ascending=False)"
   ]
  },
  {
   "cell_type": "code",
   "execution_count": null,
   "metadata": {},
   "outputs": [],
   "source": [
    "fig = plt.gcf()\n",
    "fig.set_size_inches(9, 13)\n",
    "sns.barplot(data = lang_df, y='language', x='col', orient='h')"
   ]
  },
  {
   "cell_type": "code",
   "execution_count": 19,
   "metadata": {},
   "outputs": [
    {
     "data": {
      "application/vnd.plotly.v1+json": {
       "config": {
        "plotlyServerURL": "https://plot.ly"
       },
       "data": [
        {
         "branchvalues": "total",
         "domain": {
          "x": [
           0,
           1
          ],
          "y": [
           0,
           1
          ]
         },
         "hovertemplate": "labels=%{label}<br>col=%{value}<br>parent=%{parent}<br>id=%{id}<extra></extra>",
         "ids": [
          "Afrikaans",
          "AmericanSignLanguage",
          "Arabic",
          "Bengali",
          "Cantonese",
          "Catalan",
          "Chinese",
          "Czech",
          "Danish",
          "Dutch",
          "English",
          "Filipino",
          "Finnish",
          "French",
          "German",
          "Greek",
          "Hebrew",
          "Hindi",
          "Hokkien",
          "Hungarian",
          "Indonesian",
          "Italian",
          "Japanese",
          "Korean",
          "Latin",
          "Malay",
          "Malayalam",
          "Mandarin",
          "Marathi",
          "MinNan",
          "None",
          "Norwegian",
          "Persian",
          "Polish",
          "Portuguese",
          "Punjabi",
          "Romanian",
          "Russian",
          "Serbian",
          "Slovak",
          "Spanish",
          "Swedish",
          "Tagalog",
          "Tamil",
          "Telugu",
          "Thai",
          "Turkish",
          "Ukrainian",
          "Urdu",
          "Vietnamese",
          "Yiddish"
         ],
         "labels": [
          "Afrikaans",
          "AmericanSignLanguage",
          "Arabic",
          "Bengali",
          "Cantonese",
          "Catalan",
          "Chinese",
          "Czech",
          "Danish",
          "Dutch",
          "English",
          "Filipino",
          "Finnish",
          "French",
          "German",
          "Greek",
          "Hebrew",
          "Hindi",
          "Hokkien",
          "Hungarian",
          "Indonesian",
          "Italian",
          "Japanese",
          "Korean",
          "Latin",
          "Malay",
          "Malayalam",
          "Mandarin",
          "Marathi",
          "MinNan",
          "None",
          "Norwegian",
          "Persian",
          "Polish",
          "Portuguese",
          "Punjabi",
          "Romanian",
          "Russian",
          "Serbian",
          "Slovak",
          "Spanish",
          "Swedish",
          "Tagalog",
          "Tamil",
          "Telugu",
          "Thai",
          "Turkish",
          "Ukrainian",
          "Urdu",
          "Vietnamese",
          "Yiddish"
         ],
         "name": "",
         "parents": [
          "",
          "",
          "",
          "",
          "",
          "",
          "",
          "",
          "",
          "",
          "",
          "",
          "",
          "",
          "",
          "",
          "",
          "",
          "",
          "",
          "",
          "",
          "",
          "",
          "",
          "",
          "",
          "",
          "",
          "",
          "",
          "",
          "",
          "",
          "",
          "",
          "",
          "",
          "",
          "",
          "",
          "",
          "",
          "",
          "",
          "",
          "",
          "",
          "",
          "",
          ""
         ],
         "type": "treemap",
         "values": [
          28,
          26,
          294,
          29,
          291,
          23,
          132,
          148,
          121,
          180,
          7774,
          91,
          24,
          1013,
          665,
          42,
          86,
          526,
          27,
          64,
          97,
          473,
          1604,
          708,
          93,
          59,
          47,
          471,
          30,
          28,
          40,
          83,
          27,
          184,
          253,
          48,
          108,
          321,
          21,
          21,
          1113,
          171,
          85,
          83,
          38,
          196,
          172,
          47,
          47,
          33,
          25
         ]
        }
       ],
       "layout": {
        "legend": {
         "tracegroupgap": 0
        },
        "margin": {
         "t": 60
        },
        "template": {
         "data": {
          "bar": [
           {
            "error_x": {
             "color": "#2a3f5f"
            },
            "error_y": {
             "color": "#2a3f5f"
            },
            "marker": {
             "line": {
              "color": "#E5ECF6",
              "width": 0.5
             },
             "pattern": {
              "fillmode": "overlay",
              "size": 10,
              "solidity": 0.2
             }
            },
            "type": "bar"
           }
          ],
          "barpolar": [
           {
            "marker": {
             "line": {
              "color": "#E5ECF6",
              "width": 0.5
             },
             "pattern": {
              "fillmode": "overlay",
              "size": 10,
              "solidity": 0.2
             }
            },
            "type": "barpolar"
           }
          ],
          "carpet": [
           {
            "aaxis": {
             "endlinecolor": "#2a3f5f",
             "gridcolor": "white",
             "linecolor": "white",
             "minorgridcolor": "white",
             "startlinecolor": "#2a3f5f"
            },
            "baxis": {
             "endlinecolor": "#2a3f5f",
             "gridcolor": "white",
             "linecolor": "white",
             "minorgridcolor": "white",
             "startlinecolor": "#2a3f5f"
            },
            "type": "carpet"
           }
          ],
          "choropleth": [
           {
            "colorbar": {
             "outlinewidth": 0,
             "ticks": ""
            },
            "type": "choropleth"
           }
          ],
          "contour": [
           {
            "colorbar": {
             "outlinewidth": 0,
             "ticks": ""
            },
            "colorscale": [
             [
              0,
              "#0d0887"
             ],
             [
              0.1111111111111111,
              "#46039f"
             ],
             [
              0.2222222222222222,
              "#7201a8"
             ],
             [
              0.3333333333333333,
              "#9c179e"
             ],
             [
              0.4444444444444444,
              "#bd3786"
             ],
             [
              0.5555555555555556,
              "#d8576b"
             ],
             [
              0.6666666666666666,
              "#ed7953"
             ],
             [
              0.7777777777777778,
              "#fb9f3a"
             ],
             [
              0.8888888888888888,
              "#fdca26"
             ],
             [
              1,
              "#f0f921"
             ]
            ],
            "type": "contour"
           }
          ],
          "contourcarpet": [
           {
            "colorbar": {
             "outlinewidth": 0,
             "ticks": ""
            },
            "type": "contourcarpet"
           }
          ],
          "heatmap": [
           {
            "colorbar": {
             "outlinewidth": 0,
             "ticks": ""
            },
            "colorscale": [
             [
              0,
              "#0d0887"
             ],
             [
              0.1111111111111111,
              "#46039f"
             ],
             [
              0.2222222222222222,
              "#7201a8"
             ],
             [
              0.3333333333333333,
              "#9c179e"
             ],
             [
              0.4444444444444444,
              "#bd3786"
             ],
             [
              0.5555555555555556,
              "#d8576b"
             ],
             [
              0.6666666666666666,
              "#ed7953"
             ],
             [
              0.7777777777777778,
              "#fb9f3a"
             ],
             [
              0.8888888888888888,
              "#fdca26"
             ],
             [
              1,
              "#f0f921"
             ]
            ],
            "type": "heatmap"
           }
          ],
          "heatmapgl": [
           {
            "colorbar": {
             "outlinewidth": 0,
             "ticks": ""
            },
            "colorscale": [
             [
              0,
              "#0d0887"
             ],
             [
              0.1111111111111111,
              "#46039f"
             ],
             [
              0.2222222222222222,
              "#7201a8"
             ],
             [
              0.3333333333333333,
              "#9c179e"
             ],
             [
              0.4444444444444444,
              "#bd3786"
             ],
             [
              0.5555555555555556,
              "#d8576b"
             ],
             [
              0.6666666666666666,
              "#ed7953"
             ],
             [
              0.7777777777777778,
              "#fb9f3a"
             ],
             [
              0.8888888888888888,
              "#fdca26"
             ],
             [
              1,
              "#f0f921"
             ]
            ],
            "type": "heatmapgl"
           }
          ],
          "histogram": [
           {
            "marker": {
             "pattern": {
              "fillmode": "overlay",
              "size": 10,
              "solidity": 0.2
             }
            },
            "type": "histogram"
           }
          ],
          "histogram2d": [
           {
            "colorbar": {
             "outlinewidth": 0,
             "ticks": ""
            },
            "colorscale": [
             [
              0,
              "#0d0887"
             ],
             [
              0.1111111111111111,
              "#46039f"
             ],
             [
              0.2222222222222222,
              "#7201a8"
             ],
             [
              0.3333333333333333,
              "#9c179e"
             ],
             [
              0.4444444444444444,
              "#bd3786"
             ],
             [
              0.5555555555555556,
              "#d8576b"
             ],
             [
              0.6666666666666666,
              "#ed7953"
             ],
             [
              0.7777777777777778,
              "#fb9f3a"
             ],
             [
              0.8888888888888888,
              "#fdca26"
             ],
             [
              1,
              "#f0f921"
             ]
            ],
            "type": "histogram2d"
           }
          ],
          "histogram2dcontour": [
           {
            "colorbar": {
             "outlinewidth": 0,
             "ticks": ""
            },
            "colorscale": [
             [
              0,
              "#0d0887"
             ],
             [
              0.1111111111111111,
              "#46039f"
             ],
             [
              0.2222222222222222,
              "#7201a8"
             ],
             [
              0.3333333333333333,
              "#9c179e"
             ],
             [
              0.4444444444444444,
              "#bd3786"
             ],
             [
              0.5555555555555556,
              "#d8576b"
             ],
             [
              0.6666666666666666,
              "#ed7953"
             ],
             [
              0.7777777777777778,
              "#fb9f3a"
             ],
             [
              0.8888888888888888,
              "#fdca26"
             ],
             [
              1,
              "#f0f921"
             ]
            ],
            "type": "histogram2dcontour"
           }
          ],
          "mesh3d": [
           {
            "colorbar": {
             "outlinewidth": 0,
             "ticks": ""
            },
            "type": "mesh3d"
           }
          ],
          "parcoords": [
           {
            "line": {
             "colorbar": {
              "outlinewidth": 0,
              "ticks": ""
             }
            },
            "type": "parcoords"
           }
          ],
          "pie": [
           {
            "automargin": true,
            "type": "pie"
           }
          ],
          "scatter": [
           {
            "fillpattern": {
             "fillmode": "overlay",
             "size": 10,
             "solidity": 0.2
            },
            "type": "scatter"
           }
          ],
          "scatter3d": [
           {
            "line": {
             "colorbar": {
              "outlinewidth": 0,
              "ticks": ""
             }
            },
            "marker": {
             "colorbar": {
              "outlinewidth": 0,
              "ticks": ""
             }
            },
            "type": "scatter3d"
           }
          ],
          "scattercarpet": [
           {
            "marker": {
             "colorbar": {
              "outlinewidth": 0,
              "ticks": ""
             }
            },
            "type": "scattercarpet"
           }
          ],
          "scattergeo": [
           {
            "marker": {
             "colorbar": {
              "outlinewidth": 0,
              "ticks": ""
             }
            },
            "type": "scattergeo"
           }
          ],
          "scattergl": [
           {
            "marker": {
             "colorbar": {
              "outlinewidth": 0,
              "ticks": ""
             }
            },
            "type": "scattergl"
           }
          ],
          "scattermapbox": [
           {
            "marker": {
             "colorbar": {
              "outlinewidth": 0,
              "ticks": ""
             }
            },
            "type": "scattermapbox"
           }
          ],
          "scatterpolar": [
           {
            "marker": {
             "colorbar": {
              "outlinewidth": 0,
              "ticks": ""
             }
            },
            "type": "scatterpolar"
           }
          ],
          "scatterpolargl": [
           {
            "marker": {
             "colorbar": {
              "outlinewidth": 0,
              "ticks": ""
             }
            },
            "type": "scatterpolargl"
           }
          ],
          "scatterternary": [
           {
            "marker": {
             "colorbar": {
              "outlinewidth": 0,
              "ticks": ""
             }
            },
            "type": "scatterternary"
           }
          ],
          "surface": [
           {
            "colorbar": {
             "outlinewidth": 0,
             "ticks": ""
            },
            "colorscale": [
             [
              0,
              "#0d0887"
             ],
             [
              0.1111111111111111,
              "#46039f"
             ],
             [
              0.2222222222222222,
              "#7201a8"
             ],
             [
              0.3333333333333333,
              "#9c179e"
             ],
             [
              0.4444444444444444,
              "#bd3786"
             ],
             [
              0.5555555555555556,
              "#d8576b"
             ],
             [
              0.6666666666666666,
              "#ed7953"
             ],
             [
              0.7777777777777778,
              "#fb9f3a"
             ],
             [
              0.8888888888888888,
              "#fdca26"
             ],
             [
              1,
              "#f0f921"
             ]
            ],
            "type": "surface"
           }
          ],
          "table": [
           {
            "cells": {
             "fill": {
              "color": "#EBF0F8"
             },
             "line": {
              "color": "white"
             }
            },
            "header": {
             "fill": {
              "color": "#C8D4E3"
             },
             "line": {
              "color": "white"
             }
            },
            "type": "table"
           }
          ]
         },
         "layout": {
          "annotationdefaults": {
           "arrowcolor": "#2a3f5f",
           "arrowhead": 0,
           "arrowwidth": 1
          },
          "autotypenumbers": "strict",
          "coloraxis": {
           "colorbar": {
            "outlinewidth": 0,
            "ticks": ""
           }
          },
          "colorscale": {
           "diverging": [
            [
             0,
             "#8e0152"
            ],
            [
             0.1,
             "#c51b7d"
            ],
            [
             0.2,
             "#de77ae"
            ],
            [
             0.3,
             "#f1b6da"
            ],
            [
             0.4,
             "#fde0ef"
            ],
            [
             0.5,
             "#f7f7f7"
            ],
            [
             0.6,
             "#e6f5d0"
            ],
            [
             0.7,
             "#b8e186"
            ],
            [
             0.8,
             "#7fbc41"
            ],
            [
             0.9,
             "#4d9221"
            ],
            [
             1,
             "#276419"
            ]
           ],
           "sequential": [
            [
             0,
             "#0d0887"
            ],
            [
             0.1111111111111111,
             "#46039f"
            ],
            [
             0.2222222222222222,
             "#7201a8"
            ],
            [
             0.3333333333333333,
             "#9c179e"
            ],
            [
             0.4444444444444444,
             "#bd3786"
            ],
            [
             0.5555555555555556,
             "#d8576b"
            ],
            [
             0.6666666666666666,
             "#ed7953"
            ],
            [
             0.7777777777777778,
             "#fb9f3a"
            ],
            [
             0.8888888888888888,
             "#fdca26"
            ],
            [
             1,
             "#f0f921"
            ]
           ],
           "sequentialminus": [
            [
             0,
             "#0d0887"
            ],
            [
             0.1111111111111111,
             "#46039f"
            ],
            [
             0.2222222222222222,
             "#7201a8"
            ],
            [
             0.3333333333333333,
             "#9c179e"
            ],
            [
             0.4444444444444444,
             "#bd3786"
            ],
            [
             0.5555555555555556,
             "#d8576b"
            ],
            [
             0.6666666666666666,
             "#ed7953"
            ],
            [
             0.7777777777777778,
             "#fb9f3a"
            ],
            [
             0.8888888888888888,
             "#fdca26"
            ],
            [
             1,
             "#f0f921"
            ]
           ]
          },
          "colorway": [
           "#636efa",
           "#EF553B",
           "#00cc96",
           "#ab63fa",
           "#FFA15A",
           "#19d3f3",
           "#FF6692",
           "#B6E880",
           "#FF97FF",
           "#FECB52"
          ],
          "font": {
           "color": "#2a3f5f"
          },
          "geo": {
           "bgcolor": "white",
           "lakecolor": "white",
           "landcolor": "#E5ECF6",
           "showlakes": true,
           "showland": true,
           "subunitcolor": "white"
          },
          "hoverlabel": {
           "align": "left"
          },
          "hovermode": "closest",
          "mapbox": {
           "style": "light"
          },
          "paper_bgcolor": "white",
          "plot_bgcolor": "#E5ECF6",
          "polar": {
           "angularaxis": {
            "gridcolor": "white",
            "linecolor": "white",
            "ticks": ""
           },
           "bgcolor": "#E5ECF6",
           "radialaxis": {
            "gridcolor": "white",
            "linecolor": "white",
            "ticks": ""
           }
          },
          "scene": {
           "xaxis": {
            "backgroundcolor": "#E5ECF6",
            "gridcolor": "white",
            "gridwidth": 2,
            "linecolor": "white",
            "showbackground": true,
            "ticks": "",
            "zerolinecolor": "white"
           },
           "yaxis": {
            "backgroundcolor": "#E5ECF6",
            "gridcolor": "white",
            "gridwidth": 2,
            "linecolor": "white",
            "showbackground": true,
            "ticks": "",
            "zerolinecolor": "white"
           },
           "zaxis": {
            "backgroundcolor": "#E5ECF6",
            "gridcolor": "white",
            "gridwidth": 2,
            "linecolor": "white",
            "showbackground": true,
            "ticks": "",
            "zerolinecolor": "white"
           }
          },
          "shapedefaults": {
           "line": {
            "color": "#2a3f5f"
           }
          },
          "ternary": {
           "aaxis": {
            "gridcolor": "white",
            "linecolor": "white",
            "ticks": ""
           },
           "baxis": {
            "gridcolor": "white",
            "linecolor": "white",
            "ticks": ""
           },
           "bgcolor": "#E5ECF6",
           "caxis": {
            "gridcolor": "white",
            "linecolor": "white",
            "ticks": ""
           }
          },
          "title": {
           "x": 0.05
          },
          "xaxis": {
           "automargin": true,
           "gridcolor": "white",
           "linecolor": "white",
           "ticks": "",
           "title": {
            "standoff": 15
           },
           "zerolinecolor": "white",
           "zerolinewidth": 2
          },
          "yaxis": {
           "automargin": true,
           "gridcolor": "white",
           "linecolor": "white",
           "ticks": "",
           "title": {
            "standoff": 15
           },
           "zerolinecolor": "white",
           "zerolinewidth": 2
          }
         }
        }
       }
      }
     },
     "metadata": {},
     "output_type": "display_data"
    }
   ],
   "source": [
    "px.treemap(data_frame=lang_df, path=['language'], values='col')"
   ]
  },
  {
   "attachments": {},
   "cell_type": "markdown",
   "metadata": {},
   "source": [
    "4.Top 10 Hidden gems\n",
    "When not many people watched it, but it has good rating "
   ]
  },
  {
   "cell_type": "code",
   "execution_count": 20,
   "metadata": {},
   "outputs": [
    {
     "name": "stdout",
     "output_type": "stream",
     "text": [
      "Top 10 hiiden gems of Netflix\n",
      "                  title                      genre  hidden_gem_score\n",
      "0          No Festival         Documentary, Music               9.8\n",
      "1        Horsin Around                     Family               9.7\n",
      "2      The Dream House     Comedy, Drama, Fantasy               9.7\n",
      "3  A Lion in the House                Documentary               9.6\n",
      "4             Im Sorry                Documentary               9.6\n",
      "5           Conspiracy         Documentary, Short               9.6\n",
      "6  Flavours of Romania                Documentary               9.6\n",
      "7     The Last Animals                Documentary               9.5\n",
      "8         Numberblocks                  Animation               9.5\n",
      "9             Stranger  Documentary, Drama, Sport               9.5\n"
     ]
    }
   ],
   "source": [
    "hidden_gems = df.dropna(subset=['hidden_gem_score'])\n",
    "hidden_gems = hidden_gems[['title','genre','hidden_gem_score']].sort_values(by='hidden_gem_score', ascending=False)\n",
    "top10g = hidden_gems[:10].reset_index(drop=True)\n",
    "top10g\n",
    "print('Top 10 hiiden gems of Netflix\\n', top10g)"
   ]
  },
  {
   "attachments": {},
   "cell_type": "markdown",
   "metadata": {},
   "source": [
    "5.Directors and actors"
   ]
  },
  {
   "cell_type": "code",
   "execution_count": 21,
   "metadata": {},
   "outputs": [
    {
     "data": {
      "text/html": [
       "<div>\n",
       "<style scoped>\n",
       "    .dataframe tbody tr th:only-of-type {\n",
       "        vertical-align: middle;\n",
       "    }\n",
       "\n",
       "    .dataframe tbody tr th {\n",
       "        vertical-align: top;\n",
       "    }\n",
       "\n",
       "    .dataframe thead th {\n",
       "        text-align: right;\n",
       "    }\n",
       "</style>\n",
       "<table border=\"1\" class=\"dataframe\">\n",
       "  <thead>\n",
       "    <tr style=\"text-align: right;\">\n",
       "      <th></th>\n",
       "      <th>title</th>\n",
       "      <th>genre</th>\n",
       "      <th>tags</th>\n",
       "      <th>languages</th>\n",
       "      <th>series_or_movie</th>\n",
       "      <th>hidden_gem_score</th>\n",
       "      <th>country_availability</th>\n",
       "      <th>runtime</th>\n",
       "      <th>director</th>\n",
       "      <th>writer</th>\n",
       "      <th>actors</th>\n",
       "      <th>view_rating</th>\n",
       "      <th>imdb_score</th>\n",
       "      <th>rotten_tomatoes_score</th>\n",
       "      <th>metacritic_score</th>\n",
       "      <th>awards_received</th>\n",
       "      <th>awards_nominated_for</th>\n",
       "      <th>boxoffice</th>\n",
       "      <th>release_date</th>\n",
       "      <th>netflix_release_date</th>\n",
       "      <th>production_house</th>\n",
       "      <th>netflix_link</th>\n",
       "      <th>imdb_link</th>\n",
       "      <th>summary</th>\n",
       "      <th>imdb_votes</th>\n",
       "      <th>image</th>\n",
       "      <th>poster</th>\n",
       "      <th>tmdb_trailer</th>\n",
       "      <th>trailer_site</th>\n",
       "    </tr>\n",
       "  </thead>\n",
       "  <tbody>\n",
       "    <tr>\n",
       "      <th>0</th>\n",
       "      <td>Lets Fight Ghost</td>\n",
       "      <td>Crime, Drama, Fantasy, Horror, Romance</td>\n",
       "      <td>Comedy Programmes,Romantic TV Comedies,Horror ...</td>\n",
       "      <td>Swedish, Spanish</td>\n",
       "      <td>Series</td>\n",
       "      <td>4.3</td>\n",
       "      <td>Thailand</td>\n",
       "      <td>&lt; 30 minutes</td>\n",
       "      <td>Tomas Alfredson</td>\n",
       "      <td>John Ajvide Lindqvist</td>\n",
       "      <td>Kåre Hedebrant, Per Ragnar, Lina Leandersson, ...</td>\n",
       "      <td>R</td>\n",
       "      <td>7.9</td>\n",
       "      <td>98.0</td>\n",
       "      <td>82.0</td>\n",
       "      <td>74.0</td>\n",
       "      <td>57.0</td>\n",
       "      <td>$2,122,065</td>\n",
       "      <td>2008-12-12</td>\n",
       "      <td>2021-03-04</td>\n",
       "      <td>Canal+, Sandrew Metronome</td>\n",
       "      <td>https://www.netflix.com/watch/81415947</td>\n",
       "      <td>https://www.imdb.com/title/tt1139797</td>\n",
       "      <td>A med student with a supernatural gift tries t...</td>\n",
       "      <td>205926.0</td>\n",
       "      <td>https://occ-0-4708-64.1.nflxso.net/dnm/api/v6/...</td>\n",
       "      <td>https://m.media-amazon.com/images/M/MV5BOWM4NT...</td>\n",
       "      <td>NaN</td>\n",
       "      <td>NaN</td>\n",
       "    </tr>\n",
       "    <tr>\n",
       "      <th>1</th>\n",
       "      <td>HOW TO BUILD A GIRL</td>\n",
       "      <td>Comedy</td>\n",
       "      <td>Dramas,Comedies,Films Based on Books,British</td>\n",
       "      <td>English</td>\n",
       "      <td>Movie</td>\n",
       "      <td>7.0</td>\n",
       "      <td>Canada</td>\n",
       "      <td>1-2 hour</td>\n",
       "      <td>Coky Giedroyc</td>\n",
       "      <td>Caitlin Moran</td>\n",
       "      <td>Paddy Considine, Cleo, Beanie Feldstein, Dónal...</td>\n",
       "      <td>R</td>\n",
       "      <td>5.8</td>\n",
       "      <td>79.0</td>\n",
       "      <td>69.0</td>\n",
       "      <td>1.0</td>\n",
       "      <td>NaN</td>\n",
       "      <td>$70,632</td>\n",
       "      <td>2020-05-08</td>\n",
       "      <td>2021-03-04</td>\n",
       "      <td>Film 4, Monumental Pictures, Lionsgate</td>\n",
       "      <td>https://www.netflix.com/watch/81041267</td>\n",
       "      <td>https://www.imdb.com/title/tt4193072</td>\n",
       "      <td>When nerdy Johanna moves to London, things get...</td>\n",
       "      <td>2838.0</td>\n",
       "      <td>https://occ-0-1081-999.1.nflxso.net/dnm/api/v6...</td>\n",
       "      <td>https://m.media-amazon.com/images/M/MV5BZGUyN2...</td>\n",
       "      <td>https://www.youtube.com/watch?v=eIbcxPy4okQ</td>\n",
       "      <td>YouTube</td>\n",
       "    </tr>\n",
       "    <tr>\n",
       "      <th>2</th>\n",
       "      <td>Centigrade</td>\n",
       "      <td>Drama, Thriller</td>\n",
       "      <td>Thrillers</td>\n",
       "      <td>English</td>\n",
       "      <td>Movie</td>\n",
       "      <td>6.4</td>\n",
       "      <td>Canada</td>\n",
       "      <td>1-2 hour</td>\n",
       "      <td>Brendan Walsh</td>\n",
       "      <td>Brendan Walsh, Daley Nixon</td>\n",
       "      <td>Genesis Rodriguez, Vincent Piazza</td>\n",
       "      <td>Unrated</td>\n",
       "      <td>4.3</td>\n",
       "      <td>NaN</td>\n",
       "      <td>46.0</td>\n",
       "      <td>NaN</td>\n",
       "      <td>NaN</td>\n",
       "      <td>$16,263</td>\n",
       "      <td>2020-08-28</td>\n",
       "      <td>2021-03-04</td>\n",
       "      <td>NaN</td>\n",
       "      <td>https://www.netflix.com/watch/81305978</td>\n",
       "      <td>https://www.imdb.com/title/tt8945942</td>\n",
       "      <td>Trapped in a frozen car during a blizzard, a p...</td>\n",
       "      <td>1720.0</td>\n",
       "      <td>https://occ-0-1081-999.1.nflxso.net/dnm/api/v6...</td>\n",
       "      <td>https://m.media-amazon.com/images/M/MV5BODM2MD...</td>\n",
       "      <td>https://www.youtube.com/watch?v=0RvV7TNUlkQ</td>\n",
       "      <td>YouTube</td>\n",
       "    </tr>\n",
       "    <tr>\n",
       "      <th>3</th>\n",
       "      <td>ANNE+</td>\n",
       "      <td>Drama</td>\n",
       "      <td>TV Dramas,Romantic TV Dramas,Dutch TV Shows</td>\n",
       "      <td>Turkish</td>\n",
       "      <td>Series</td>\n",
       "      <td>7.7</td>\n",
       "      <td>Belgium,Netherlands</td>\n",
       "      <td>&lt; 30 minutes</td>\n",
       "      <td>NaN</td>\n",
       "      <td>NaN</td>\n",
       "      <td>Vahide Perçin, Gonca Vuslateri, Cansu Dere, Be...</td>\n",
       "      <td>NaN</td>\n",
       "      <td>6.5</td>\n",
       "      <td>NaN</td>\n",
       "      <td>NaN</td>\n",
       "      <td>1.0</td>\n",
       "      <td>NaN</td>\n",
       "      <td>NaN</td>\n",
       "      <td>2016-10-01</td>\n",
       "      <td>2021-03-04</td>\n",
       "      <td>NaN</td>\n",
       "      <td>https://www.netflix.com/watch/81336456</td>\n",
       "      <td>https://www.imdb.com/title/tt6132758</td>\n",
       "      <td>Upon moving into a new place, a 20-something r...</td>\n",
       "      <td>1147.0</td>\n",
       "      <td>https://occ-0-1489-1490.1.nflxso.net/dnm/api/v...</td>\n",
       "      <td>https://m.media-amazon.com/images/M/MV5BNWRkMz...</td>\n",
       "      <td>NaN</td>\n",
       "      <td>NaN</td>\n",
       "    </tr>\n",
       "    <tr>\n",
       "      <th>4</th>\n",
       "      <td>Moxie</td>\n",
       "      <td>Animation, Short, Drama</td>\n",
       "      <td>Social Issue Dramas,Teen Movies,Dramas,Comedie...</td>\n",
       "      <td>English</td>\n",
       "      <td>Movie</td>\n",
       "      <td>8.1</td>\n",
       "      <td>Lithuania,Poland,France,Iceland,Italy,Spain,Gr...</td>\n",
       "      <td>1-2 hour</td>\n",
       "      <td>Stephen Irwin</td>\n",
       "      <td>NaN</td>\n",
       "      <td>Ragga Gudrun</td>\n",
       "      <td>NaN</td>\n",
       "      <td>6.3</td>\n",
       "      <td>NaN</td>\n",
       "      <td>NaN</td>\n",
       "      <td>NaN</td>\n",
       "      <td>4.0</td>\n",
       "      <td>NaN</td>\n",
       "      <td>2011-09-22</td>\n",
       "      <td>2021-03-04</td>\n",
       "      <td>NaN</td>\n",
       "      <td>https://www.netflix.com/watch/81078393</td>\n",
       "      <td>https://www.imdb.com/title/tt2023611</td>\n",
       "      <td>Inspired by her moms rebellious past and a con...</td>\n",
       "      <td>63.0</td>\n",
       "      <td>https://occ-0-4039-1500.1.nflxso.net/dnm/api/v...</td>\n",
       "      <td>https://m.media-amazon.com/images/M/MV5BODYyNW...</td>\n",
       "      <td>NaN</td>\n",
       "      <td>NaN</td>\n",
       "    </tr>\n",
       "  </tbody>\n",
       "</table>\n",
       "</div>"
      ],
      "text/plain": [
       "                 title                                   genre  \\\n",
       "0     Lets Fight Ghost  Crime, Drama, Fantasy, Horror, Romance   \n",
       "1  HOW TO BUILD A GIRL                                  Comedy   \n",
       "2           Centigrade                         Drama, Thriller   \n",
       "3                ANNE+                                   Drama   \n",
       "4                Moxie                 Animation, Short, Drama   \n",
       "\n",
       "                                                tags         languages  \\\n",
       "0  Comedy Programmes,Romantic TV Comedies,Horror ...  Swedish, Spanish   \n",
       "1       Dramas,Comedies,Films Based on Books,British           English   \n",
       "2                                          Thrillers           English   \n",
       "3        TV Dramas,Romantic TV Dramas,Dutch TV Shows           Turkish   \n",
       "4  Social Issue Dramas,Teen Movies,Dramas,Comedie...           English   \n",
       "\n",
       "  series_or_movie  hidden_gem_score  \\\n",
       "0          Series               4.3   \n",
       "1           Movie               7.0   \n",
       "2           Movie               6.4   \n",
       "3          Series               7.7   \n",
       "4           Movie               8.1   \n",
       "\n",
       "                                country_availability       runtime  \\\n",
       "0                                           Thailand  < 30 minutes   \n",
       "1                                             Canada      1-2 hour   \n",
       "2                                             Canada      1-2 hour   \n",
       "3                                Belgium,Netherlands  < 30 minutes   \n",
       "4  Lithuania,Poland,France,Iceland,Italy,Spain,Gr...      1-2 hour   \n",
       "\n",
       "          director                      writer  \\\n",
       "0  Tomas Alfredson       John Ajvide Lindqvist   \n",
       "1    Coky Giedroyc               Caitlin Moran   \n",
       "2    Brendan Walsh  Brendan Walsh, Daley Nixon   \n",
       "3              NaN                         NaN   \n",
       "4    Stephen Irwin                         NaN   \n",
       "\n",
       "                                              actors view_rating  imdb_score  \\\n",
       "0  Kåre Hedebrant, Per Ragnar, Lina Leandersson, ...           R         7.9   \n",
       "1  Paddy Considine, Cleo, Beanie Feldstein, Dónal...           R         5.8   \n",
       "2                  Genesis Rodriguez, Vincent Piazza     Unrated         4.3   \n",
       "3  Vahide Perçin, Gonca Vuslateri, Cansu Dere, Be...         NaN         6.5   \n",
       "4                                       Ragga Gudrun         NaN         6.3   \n",
       "\n",
       "   rotten_tomatoes_score  metacritic_score  awards_received  \\\n",
       "0                   98.0              82.0             74.0   \n",
       "1                   79.0              69.0              1.0   \n",
       "2                    NaN              46.0              NaN   \n",
       "3                    NaN               NaN              1.0   \n",
       "4                    NaN               NaN              NaN   \n",
       "\n",
       "   awards_nominated_for   boxoffice release_date netflix_release_date  \\\n",
       "0                  57.0  $2,122,065   2008-12-12           2021-03-04   \n",
       "1                   NaN     $70,632   2020-05-08           2021-03-04   \n",
       "2                   NaN     $16,263   2020-08-28           2021-03-04   \n",
       "3                   NaN         NaN   2016-10-01           2021-03-04   \n",
       "4                   4.0         NaN   2011-09-22           2021-03-04   \n",
       "\n",
       "                         production_house  \\\n",
       "0               Canal+, Sandrew Metronome   \n",
       "1  Film 4, Monumental Pictures, Lionsgate   \n",
       "2                                     NaN   \n",
       "3                                     NaN   \n",
       "4                                     NaN   \n",
       "\n",
       "                             netflix_link  \\\n",
       "0  https://www.netflix.com/watch/81415947   \n",
       "1  https://www.netflix.com/watch/81041267   \n",
       "2  https://www.netflix.com/watch/81305978   \n",
       "3  https://www.netflix.com/watch/81336456   \n",
       "4  https://www.netflix.com/watch/81078393   \n",
       "\n",
       "                              imdb_link  \\\n",
       "0  https://www.imdb.com/title/tt1139797   \n",
       "1  https://www.imdb.com/title/tt4193072   \n",
       "2  https://www.imdb.com/title/tt8945942   \n",
       "3  https://www.imdb.com/title/tt6132758   \n",
       "4  https://www.imdb.com/title/tt2023611   \n",
       "\n",
       "                                             summary  imdb_votes  \\\n",
       "0  A med student with a supernatural gift tries t...    205926.0   \n",
       "1  When nerdy Johanna moves to London, things get...      2838.0   \n",
       "2  Trapped in a frozen car during a blizzard, a p...      1720.0   \n",
       "3  Upon moving into a new place, a 20-something r...      1147.0   \n",
       "4  Inspired by her moms rebellious past and a con...        63.0   \n",
       "\n",
       "                                               image  \\\n",
       "0  https://occ-0-4708-64.1.nflxso.net/dnm/api/v6/...   \n",
       "1  https://occ-0-1081-999.1.nflxso.net/dnm/api/v6...   \n",
       "2  https://occ-0-1081-999.1.nflxso.net/dnm/api/v6...   \n",
       "3  https://occ-0-1489-1490.1.nflxso.net/dnm/api/v...   \n",
       "4  https://occ-0-4039-1500.1.nflxso.net/dnm/api/v...   \n",
       "\n",
       "                                              poster  \\\n",
       "0  https://m.media-amazon.com/images/M/MV5BOWM4NT...   \n",
       "1  https://m.media-amazon.com/images/M/MV5BZGUyN2...   \n",
       "2  https://m.media-amazon.com/images/M/MV5BODM2MD...   \n",
       "3  https://m.media-amazon.com/images/M/MV5BNWRkMz...   \n",
       "4  https://m.media-amazon.com/images/M/MV5BODYyNW...   \n",
       "\n",
       "                                  tmdb_trailer trailer_site  \n",
       "0                                          NaN          NaN  \n",
       "1  https://www.youtube.com/watch?v=eIbcxPy4okQ      YouTube  \n",
       "2  https://www.youtube.com/watch?v=0RvV7TNUlkQ      YouTube  \n",
       "3                                          NaN          NaN  \n",
       "4                                          NaN          NaN  "
      ]
     },
     "execution_count": 21,
     "metadata": {},
     "output_type": "execute_result"
    }
   ],
   "source": [
    "df.head()"
   ]
  },
  {
   "cell_type": "code",
   "execution_count": 26,
   "metadata": {},
   "outputs": [
    {
     "data": {
      "text/html": [
       "<div>\n",
       "<style scoped>\n",
       "    .dataframe tbody tr th:only-of-type {\n",
       "        vertical-align: middle;\n",
       "    }\n",
       "\n",
       "    .dataframe tbody tr th {\n",
       "        vertical-align: top;\n",
       "    }\n",
       "\n",
       "    .dataframe thead th {\n",
       "        text-align: right;\n",
       "    }\n",
       "</style>\n",
       "<table border=\"1\" class=\"dataframe\">\n",
       "  <thead>\n",
       "    <tr style=\"text-align: right;\">\n",
       "      <th></th>\n",
       "      <th>director</th>\n",
       "      <th>col</th>\n",
       "    </tr>\n",
       "  </thead>\n",
       "  <tbody>\n",
       "    <tr>\n",
       "      <th>553</th>\n",
       "      <td>Steven Spielberg</td>\n",
       "      <td>25</td>\n",
       "    </tr>\n",
       "    <tr>\n",
       "      <th>195</th>\n",
       "      <td>Johnnie To</td>\n",
       "      <td>21</td>\n",
       "    </tr>\n",
       "    <tr>\n",
       "      <th>2524</th>\n",
       "      <td>Jing Wong</td>\n",
       "      <td>21</td>\n",
       "    </tr>\n",
       "    <tr>\n",
       "      <th>4512</th>\n",
       "      <td>Raúl Campos</td>\n",
       "      <td>19</td>\n",
       "    </tr>\n",
       "    <tr>\n",
       "      <th>4513</th>\n",
       "      <td>Jan Suter</td>\n",
       "      <td>19</td>\n",
       "    </tr>\n",
       "    <tr>\n",
       "      <th>36</th>\n",
       "      <td>Woody Allen</td>\n",
       "      <td>18</td>\n",
       "    </tr>\n",
       "    <tr>\n",
       "      <th>23</th>\n",
       "      <td>Ishirô Honda</td>\n",
       "      <td>18</td>\n",
       "    </tr>\n",
       "    <tr>\n",
       "      <th>1978</th>\n",
       "      <td>Marcus Raboy</td>\n",
       "      <td>17</td>\n",
       "    </tr>\n",
       "    <tr>\n",
       "      <th>2126</th>\n",
       "      <td>Jay Karas</td>\n",
       "      <td>16</td>\n",
       "    </tr>\n",
       "    <tr>\n",
       "      <th>5052</th>\n",
       "      <td>Pedro Almodóvar</td>\n",
       "      <td>16</td>\n",
       "    </tr>\n",
       "  </tbody>\n",
       "</table>\n",
       "</div>"
      ],
      "text/plain": [
       "              director  col\n",
       "553   Steven Spielberg   25\n",
       "195         Johnnie To   21\n",
       "2524         Jing Wong   21\n",
       "4512       Raúl Campos   19\n",
       "4513         Jan Suter   19\n",
       "36         Woody Allen   18\n",
       "23        Ishirô Honda   18\n",
       "1978      Marcus Raboy   17\n",
       "2126         Jay Karas   16\n",
       "5052   Pedro Almodóvar   16"
      ]
     },
     "execution_count": 26,
     "metadata": {},
     "output_type": "execute_result"
    }
   ],
   "source": [
    "director_df = df.dropna(subset='director')\n",
    "director_df = director_df.director.str.split(', ')\n",
    "dir_list={}\n",
    "for directors in director_df:\n",
    "    for director in directors:\n",
    "        if director in dir_list:\n",
    "            dir_list[director]+=1\n",
    "        else:\n",
    "            dir_list[director]=1\n",
    "director_df = pd.DataFrame.from_dict(dir_list, orient='index')\n",
    "director_df = director_df.reset_index().rename(columns={'index':'director',0:'col'}).sort_values(by='col', ascending=False)\n",
    "director_df = director_df.head(10)\n",
    "director_df"
   ]
  },
  {
   "attachments": {},
   "cell_type": "markdown",
   "metadata": {},
   "source": [
    "Now we know TOP 10 directors by count of their films on Netflix, lets discover some more"
   ]
  },
  {
   "cell_type": "code",
   "execution_count": 32,
   "metadata": {},
   "outputs": [
    {
     "data": {
      "text/html": [
       "<div>\n",
       "<style scoped>\n",
       "    .dataframe tbody tr th:only-of-type {\n",
       "        vertical-align: middle;\n",
       "    }\n",
       "\n",
       "    .dataframe tbody tr th {\n",
       "        vertical-align: top;\n",
       "    }\n",
       "\n",
       "    .dataframe thead th {\n",
       "        text-align: right;\n",
       "    }\n",
       "</style>\n",
       "<table border=\"1\" class=\"dataframe\">\n",
       "  <thead>\n",
       "    <tr style=\"text-align: right;\">\n",
       "      <th></th>\n",
       "      <th>director</th>\n",
       "      <th>title</th>\n",
       "      <th>genre</th>\n",
       "      <th>series_or_movie</th>\n",
       "      <th>imdb_score</th>\n",
       "      <th>awards_received</th>\n",
       "      <th>boxoffice</th>\n",
       "      <th>count_of_films</th>\n",
       "    </tr>\n",
       "  </thead>\n",
       "  <tbody>\n",
       "    <tr>\n",
       "      <th>0</th>\n",
       "      <td>Steven Spielberg</td>\n",
       "      <td>Me &amp; You vs The World</td>\n",
       "      <td>Biography, Crime, Drama</td>\n",
       "      <td>Movie</td>\n",
       "      <td>8.1</td>\n",
       "      <td>16.0</td>\n",
       "      <td>$164,615,351</td>\n",
       "      <td>25</td>\n",
       "    </tr>\n",
       "    <tr>\n",
       "      <th>1</th>\n",
       "      <td>Steven Spielberg</td>\n",
       "      <td>Hook</td>\n",
       "      <td>Adventure, Comedy, Family, Fantasy</td>\n",
       "      <td>Series</td>\n",
       "      <td>6.8</td>\n",
       "      <td>7.0</td>\n",
       "      <td>$119,654,823</td>\n",
       "      <td>25</td>\n",
       "    </tr>\n",
       "    <tr>\n",
       "      <th>2</th>\n",
       "      <td>Steven Spielberg</td>\n",
       "      <td>The Post</td>\n",
       "      <td>Drama</td>\n",
       "      <td>Movie</td>\n",
       "      <td>7.2</td>\n",
       "      <td>20.0</td>\n",
       "      <td>$81,903,458</td>\n",
       "      <td>25</td>\n",
       "    </tr>\n",
       "    <tr>\n",
       "      <th>3</th>\n",
       "      <td>Steven Spielberg</td>\n",
       "      <td>Ready Player One</td>\n",
       "      <td>Action, Adventure, Sci-Fi</td>\n",
       "      <td>Movie</td>\n",
       "      <td>7.5</td>\n",
       "      <td>11.0</td>\n",
       "      <td>$137,690,172</td>\n",
       "      <td>25</td>\n",
       "    </tr>\n",
       "    <tr>\n",
       "      <th>4</th>\n",
       "      <td>Steven Spielberg</td>\n",
       "      <td>The Terminal</td>\n",
       "      <td>Comedy, Drama, Romance</td>\n",
       "      <td>Series</td>\n",
       "      <td>7.4</td>\n",
       "      <td>7.0</td>\n",
       "      <td>$77,872,883</td>\n",
       "      <td>25</td>\n",
       "    </tr>\n",
       "    <tr>\n",
       "      <th>...</th>\n",
       "      <td>...</td>\n",
       "      <td>...</td>\n",
       "      <td>...</td>\n",
       "      <td>...</td>\n",
       "      <td>...</td>\n",
       "      <td>...</td>\n",
       "      <td>...</td>\n",
       "      <td>...</td>\n",
       "    </tr>\n",
       "    <tr>\n",
       "      <th>128</th>\n",
       "      <td>Pedro Almodóvar</td>\n",
       "      <td>Tie Me Up! Tie Me Down!</td>\n",
       "      <td>Comedy, Crime, Drama, Romance</td>\n",
       "      <td>Movie</td>\n",
       "      <td>7.0</td>\n",
       "      <td>8.0</td>\n",
       "      <td>$4,087,361</td>\n",
       "      <td>16</td>\n",
       "    </tr>\n",
       "    <tr>\n",
       "      <th>129</th>\n",
       "      <td>Pedro Almodóvar</td>\n",
       "      <td>All About My Mother</td>\n",
       "      <td>Drama</td>\n",
       "      <td>Movie</td>\n",
       "      <td>7.8</td>\n",
       "      <td>58.0</td>\n",
       "      <td>$8,344,738</td>\n",
       "      <td>16</td>\n",
       "    </tr>\n",
       "    <tr>\n",
       "      <th>130</th>\n",
       "      <td>Pedro Almodóvar</td>\n",
       "      <td>Im So Excited</td>\n",
       "      <td>Comedy</td>\n",
       "      <td>Movie</td>\n",
       "      <td>5.6</td>\n",
       "      <td>3.0</td>\n",
       "      <td>$1,368,119</td>\n",
       "      <td>16</td>\n",
       "    </tr>\n",
       "    <tr>\n",
       "      <th>131</th>\n",
       "      <td>Pedro Almodóvar</td>\n",
       "      <td>Volver</td>\n",
       "      <td>Comedy, Drama</td>\n",
       "      <td>Movie</td>\n",
       "      <td>7.6</td>\n",
       "      <td>61.0</td>\n",
       "      <td>$12,899,867</td>\n",
       "      <td>16</td>\n",
       "    </tr>\n",
       "    <tr>\n",
       "      <th>132</th>\n",
       "      <td>Pedro Almodóvar</td>\n",
       "      <td>The Skin I Live In</td>\n",
       "      <td>Drama, Horror, Thriller</td>\n",
       "      <td>Movie</td>\n",
       "      <td>7.6</td>\n",
       "      <td>28.0</td>\n",
       "      <td>$3,185,812</td>\n",
       "      <td>16</td>\n",
       "    </tr>\n",
       "  </tbody>\n",
       "</table>\n",
       "<p>133 rows × 8 columns</p>\n",
       "</div>"
      ],
      "text/plain": [
       "             director                    title  \\\n",
       "0    Steven Spielberg    Me & You vs The World   \n",
       "1    Steven Spielberg                     Hook   \n",
       "2    Steven Spielberg                 The Post   \n",
       "3    Steven Spielberg         Ready Player One   \n",
       "4    Steven Spielberg             The Terminal   \n",
       "..                ...                      ...   \n",
       "128   Pedro Almodóvar  Tie Me Up! Tie Me Down!   \n",
       "129   Pedro Almodóvar      All About My Mother   \n",
       "130   Pedro Almodóvar            Im So Excited   \n",
       "131   Pedro Almodóvar                   Volver   \n",
       "132   Pedro Almodóvar       The Skin I Live In   \n",
       "\n",
       "                                  genre series_or_movie  imdb_score  \\\n",
       "0               Biography, Crime, Drama           Movie         8.1   \n",
       "1    Adventure, Comedy, Family, Fantasy          Series         6.8   \n",
       "2                                 Drama           Movie         7.2   \n",
       "3             Action, Adventure, Sci-Fi           Movie         7.5   \n",
       "4                Comedy, Drama, Romance          Series         7.4   \n",
       "..                                  ...             ...         ...   \n",
       "128       Comedy, Crime, Drama, Romance           Movie         7.0   \n",
       "129                               Drama           Movie         7.8   \n",
       "130                              Comedy           Movie         5.6   \n",
       "131                       Comedy, Drama           Movie         7.6   \n",
       "132             Drama, Horror, Thriller           Movie         7.6   \n",
       "\n",
       "     awards_received     boxoffice  count_of_films  \n",
       "0               16.0  $164,615,351              25  \n",
       "1                7.0  $119,654,823              25  \n",
       "2               20.0   $81,903,458              25  \n",
       "3               11.0  $137,690,172              25  \n",
       "4                7.0   $77,872,883              25  \n",
       "..               ...           ...             ...  \n",
       "128              8.0    $4,087,361              16  \n",
       "129             58.0    $8,344,738              16  \n",
       "130              3.0    $1,368,119              16  \n",
       "131             61.0   $12,899,867              16  \n",
       "132             28.0    $3,185,812              16  \n",
       "\n",
       "[133 rows x 8 columns]"
      ]
     },
     "execution_count": 32,
     "metadata": {},
     "output_type": "execute_result"
    }
   ],
   "source": [
    "top10director_df = director_df.merge(df, how='inner', on='director')\n",
    "top10director_df = top10director_df[['director', 'title', 'genre','series_or_movie','imdb_score','awards_received','boxoffice','col']].rename(columns={'col':'count_of_films'})\n",
    "top10director_df\n"
   ]
  },
  {
   "cell_type": "code",
   "execution_count": 33,
   "metadata": {},
   "outputs": [
    {
     "ename": "KeyError",
     "evalue": "'Doesjka van Hoogdalem'",
     "output_type": "error",
     "traceback": [
      "\u001b[1;31m---------------------------------------------------------------------------\u001b[0m",
      "\u001b[1;31mKeyError\u001b[0m                                  Traceback (most recent call last)",
      "\u001b[1;32m~\\AppData\\Local\\Temp\\ipykernel_10864\\892644846.py\u001b[0m in \u001b[0;36m<module>\u001b[1;34m\u001b[0m\n\u001b[1;32m----> 1\u001b[1;33m \u001b[0mtop10director_df\u001b[0m\u001b[1;33m.\u001b[0m\u001b[0mgroupby\u001b[0m\u001b[1;33m(\u001b[0m\u001b[0mdirector\u001b[0m\u001b[1;33m)\u001b[0m\u001b[1;33m.\u001b[0m\u001b[0maggregate\u001b[0m\u001b[1;33m(\u001b[0m\u001b[1;34m'avg'\u001b[0m\u001b[1;33m,\u001b[0m \u001b[1;34m'imdb_score'\u001b[0m\u001b[1;33m)\u001b[0m\u001b[1;33m\u001b[0m\u001b[1;33m\u001b[0m\u001b[0m\n\u001b[0m",
      "\u001b[1;32mc:\\Users\\Nabok\\anaconda3\\lib\\site-packages\\pandas\\core\\frame.py\u001b[0m in \u001b[0;36mgroupby\u001b[1;34m(self, by, axis, level, as_index, sort, group_keys, squeeze, observed, dropna)\u001b[0m\n\u001b[0;32m   7719\u001b[0m         \u001b[1;31m# error: Argument \"squeeze\" to \"DataFrameGroupBy\" has incompatible type\u001b[0m\u001b[1;33m\u001b[0m\u001b[1;33m\u001b[0m\u001b[0m\n\u001b[0;32m   7720\u001b[0m         \u001b[1;31m# \"Union[bool, NoDefault]\"; expected \"bool\"\u001b[0m\u001b[1;33m\u001b[0m\u001b[1;33m\u001b[0m\u001b[0m\n\u001b[1;32m-> 7721\u001b[1;33m         return DataFrameGroupBy(\n\u001b[0m\u001b[0;32m   7722\u001b[0m             \u001b[0mobj\u001b[0m\u001b[1;33m=\u001b[0m\u001b[0mself\u001b[0m\u001b[1;33m,\u001b[0m\u001b[1;33m\u001b[0m\u001b[1;33m\u001b[0m\u001b[0m\n\u001b[0;32m   7723\u001b[0m             \u001b[0mkeys\u001b[0m\u001b[1;33m=\u001b[0m\u001b[0mby\u001b[0m\u001b[1;33m,\u001b[0m\u001b[1;33m\u001b[0m\u001b[1;33m\u001b[0m\u001b[0m\n",
      "\u001b[1;32mc:\\Users\\Nabok\\anaconda3\\lib\\site-packages\\pandas\\core\\groupby\\groupby.py\u001b[0m in \u001b[0;36m__init__\u001b[1;34m(self, obj, keys, axis, level, grouper, exclusions, selection, as_index, sort, group_keys, squeeze, observed, mutated, dropna)\u001b[0m\n\u001b[0;32m    880\u001b[0m             \u001b[1;32mfrom\u001b[0m \u001b[0mpandas\u001b[0m\u001b[1;33m.\u001b[0m\u001b[0mcore\u001b[0m\u001b[1;33m.\u001b[0m\u001b[0mgroupby\u001b[0m\u001b[1;33m.\u001b[0m\u001b[0mgrouper\u001b[0m \u001b[1;32mimport\u001b[0m \u001b[0mget_grouper\u001b[0m\u001b[1;33m\u001b[0m\u001b[1;33m\u001b[0m\u001b[0m\n\u001b[0;32m    881\u001b[0m \u001b[1;33m\u001b[0m\u001b[0m\n\u001b[1;32m--> 882\u001b[1;33m             grouper, exclusions, obj = get_grouper(\n\u001b[0m\u001b[0;32m    883\u001b[0m                 \u001b[0mobj\u001b[0m\u001b[1;33m,\u001b[0m\u001b[1;33m\u001b[0m\u001b[1;33m\u001b[0m\u001b[0m\n\u001b[0;32m    884\u001b[0m                 \u001b[0mkeys\u001b[0m\u001b[1;33m,\u001b[0m\u001b[1;33m\u001b[0m\u001b[1;33m\u001b[0m\u001b[0m\n",
      "\u001b[1;32mc:\\Users\\Nabok\\anaconda3\\lib\\site-packages\\pandas\\core\\groupby\\grouper.py\u001b[0m in \u001b[0;36mget_grouper\u001b[1;34m(obj, key, axis, level, sort, observed, mutated, validate, dropna)\u001b[0m\n\u001b[0;32m    880\u001b[0m                 \u001b[0min_axis\u001b[0m\u001b[1;33m,\u001b[0m \u001b[0mlevel\u001b[0m\u001b[1;33m,\u001b[0m \u001b[0mgpr\u001b[0m \u001b[1;33m=\u001b[0m \u001b[1;32mFalse\u001b[0m\u001b[1;33m,\u001b[0m \u001b[0mgpr\u001b[0m\u001b[1;33m,\u001b[0m \u001b[1;32mNone\u001b[0m\u001b[1;33m\u001b[0m\u001b[1;33m\u001b[0m\u001b[0m\n\u001b[0;32m    881\u001b[0m             \u001b[1;32melse\u001b[0m\u001b[1;33m:\u001b[0m\u001b[1;33m\u001b[0m\u001b[1;33m\u001b[0m\u001b[0m\n\u001b[1;32m--> 882\u001b[1;33m                 \u001b[1;32mraise\u001b[0m \u001b[0mKeyError\u001b[0m\u001b[1;33m(\u001b[0m\u001b[0mgpr\u001b[0m\u001b[1;33m)\u001b[0m\u001b[1;33m\u001b[0m\u001b[1;33m\u001b[0m\u001b[0m\n\u001b[0m\u001b[0;32m    883\u001b[0m         \u001b[1;32melif\u001b[0m \u001b[0misinstance\u001b[0m\u001b[1;33m(\u001b[0m\u001b[0mgpr\u001b[0m\u001b[1;33m,\u001b[0m \u001b[0mGrouper\u001b[0m\u001b[1;33m)\u001b[0m \u001b[1;32mand\u001b[0m \u001b[0mgpr\u001b[0m\u001b[1;33m.\u001b[0m\u001b[0mkey\u001b[0m \u001b[1;32mis\u001b[0m \u001b[1;32mnot\u001b[0m \u001b[1;32mNone\u001b[0m\u001b[1;33m:\u001b[0m\u001b[1;33m\u001b[0m\u001b[1;33m\u001b[0m\u001b[0m\n\u001b[0;32m    884\u001b[0m             \u001b[1;31m# Add key to exclusions\u001b[0m\u001b[1;33m\u001b[0m\u001b[1;33m\u001b[0m\u001b[0m\n",
      "\u001b[1;31mKeyError\u001b[0m: 'Doesjka van Hoogdalem'"
     ]
    }
   ],
   "source": [
    "top10director_df.groupby(director).aggregate('avg', 'imdb_score')"
   ]
  },
  {
   "cell_type": "code",
   "execution_count": null,
   "metadata": {},
   "outputs": [],
   "source": []
  }
 ],
 "metadata": {
  "kernelspec": {
   "display_name": "base",
   "language": "python",
   "name": "python3"
  },
  "language_info": {
   "codemirror_mode": {
    "name": "ipython",
    "version": 3
   },
   "file_extension": ".py",
   "mimetype": "text/x-python",
   "name": "python",
   "nbconvert_exporter": "python",
   "pygments_lexer": "ipython3",
   "version": "3.9.13"
  },
  "orig_nbformat": 4,
  "vscode": {
   "interpreter": {
    "hash": "ef9df14354206564f07fc7b9807330ed827040946bfd9f8d467ccd7576873feb"
   }
  }
 },
 "nbformat": 4,
 "nbformat_minor": 2
}
